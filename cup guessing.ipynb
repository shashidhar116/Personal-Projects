{
 "cells": [
  {
   "cell_type": "code",
   "execution_count": 8,
   "metadata": {},
   "outputs": [
    {
     "name": "stdout",
     "output_type": "stream",
     "text": [
      "Do you want to play a game?\n",
      "enter yes or no : n\n",
      "okay!let's play after some time\n"
     ]
    }
   ],
   "source": [
    "print('Do you want to play a game?')\n",
    "d=input(\"enter yes or no : \")\n",
    "g=True\n",
    "while g:\n",
    "    if d=='yes'or d=='YES' or d=='Yes' or d=='Y'or d=='y':\n",
    "        print(\"Welcome to CUP GUESSING\")\n",
    "        print(\"I have 3 cups and a red ball is under any one cup and I will shuffle them\")\n",
    "        print(\"Guess the cup which is over the ball \")\n",
    "        l=[' ','O',' ']\n",
    "        from random import shuffle\n",
    "        def shufflelist(l):\n",
    "            return shuffle(l)\n",
    "        a=shufflelist(l)\n",
    "    \n",
    "        def guess():\n",
    "            print(\"guess where is the red ball\")\n",
    "            a=input(\"enter which cup 1,2 or 3: \")\n",
    "            return a\n",
    "        def check():\n",
    "            r=guess()\n",
    "            if l[int(r)-1]=='O':\n",
    "                print('congrats!you have won')\n",
    "                print(l)\n",
    "            else:\n",
    "                for i in range (3):\n",
    "                    if l[i]=='O':\n",
    "                        print('oops!wrong guess')\n",
    "                        print(f\"Correct one is {i+1}\")\n",
    "                        print(l)\n",
    "        check()\n",
    "    else:\n",
    "        print(\"okay!let's play after some time\")\n",
    "        \n",
    "        break\n",
    "    z=input('Do you want to play again(Y/N)? ')\n",
    "    if z=='y' or z=='Y' or z=='yes' or z=='Yes':\n",
    "        g=True\n",
    "    else:\n",
    "        g=False\n",
    "        print(\"Let's play after some time\")\n",
    "        "
   ]
  },
  {
   "cell_type": "code",
   "execution_count": null,
   "metadata": {},
   "outputs": [],
   "source": []
  }
 ],
 "metadata": {
  "kernelspec": {
   "display_name": "Python 3",
   "language": "python",
   "name": "python3"
  },
  "language_info": {
   "codemirror_mode": {
    "name": "ipython",
    "version": 3
   },
   "file_extension": ".py",
   "mimetype": "text/x-python",
   "name": "python",
   "nbconvert_exporter": "python",
   "pygments_lexer": "ipython3",
   "version": "3.8.3"
  }
 },
 "nbformat": 4,
 "nbformat_minor": 4
}
